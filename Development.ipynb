{
 "cells": [
  {
   "cell_type": "markdown",
   "metadata": {},
   "source": [
    "# Development Notebook\n",
    "## Author: Daniel Mallia\n",
    "Used for quick, interactive development and demonstration"
   ]
  },
  {
   "cell_type": "markdown",
   "metadata": {},
   "source": [
    "### Part 1 - Environment\n",
    "See the Easy21Environment module for implementation"
   ]
  },
  {
   "cell_type": "code",
   "execution_count": null,
   "metadata": {},
   "outputs": [],
   "source": [
    "import matplotlib.pyplot as plt\n",
    "from Easy21Environment import *\n",
    "from Easy21Agents import *\n",
    "SEED = 1234"
   ]
  },
  {
   "cell_type": "code",
   "execution_count": null,
   "metadata": {},
   "outputs": [],
   "source": [
    "easy = Easy21Environment(SEED)"
   ]
  },
  {
   "cell_type": "markdown",
   "metadata": {},
   "source": [
    "### Part 2  - Monte Carlo Control\n",
    "See the Easy21Agents module for implementation"
   ]
  },
  {
   "cell_type": "code",
   "execution_count": null,
   "metadata": {},
   "outputs": [],
   "source": [
    "mc = Easy21MC(SEED)\n",
    "mc.learn(easy,1000000)\n",
    "fig = mc.plot_value_function()"
   ]
  },
  {
   "cell_type": "markdown",
   "metadata": {},
   "source": [
    "### Part 3 - TD Learning"
   ]
  },
  {
   "cell_type": "code",
   "execution_count": null,
   "metadata": {},
   "outputs": [],
   "source": [
    "td = Easy21TD(SEED)\n",
    "td.learn(easy,10000, 0)\n",
    "fig = td.plot_value_function()"
   ]
  },
  {
   "cell_type": "code",
   "execution_count": null,
   "metadata": {},
   "outputs": [],
   "source": [
    "error_dict = {}\n",
    "episode_mse_dict = {}\n",
    "index = 0\n",
    "\n",
    "easy_compare = Easy21Environment(SEED)\n",
    "mc_compare = Easy21MC(SEED)\n",
    "mc_compare.learn(easy_compare,1000000)\n",
    "for td_lambda in [0.1 * i for i in range(0,11)]:\n",
    "    easy_compare = Easy21Environment(SEED)\n",
    "    td_compare = Easy21TD(SEED)\n",
    "    episode_mse_dict[index] = td_compare.learn(easy_compare,1000, td_lambda, mc_comparison=mc_compare)\n",
    "    error_dict[td_lambda] = compare_q_estimates(td_compare, mc_compare)\n",
    "    index += 1\n",
    "    \n",
    "fig, ax = plt.subplots()\n",
    "ax.plot(list(error_dict.keys()), list(error_dict.values()))\n",
    "ax.set(xlabel=\"Lambda\", ylabel=\"Mean Squared Error\", title=\"MSE between TD and MC estimates, varying lambda\")\n",
    "plt.show()\n",
    "\n",
    "fig, ax = plt.subplots()\n",
    "ax.plot(list(episode_mse_dict[0].keys()), list(episode_mse_dict[0].values()), color=\"blue\", label=\"Lambda = 0\")\n",
    "ax.plot(list(episode_mse_dict[index-1].keys()), list(episode_mse_dict[index-1].values()), color=\"red\", label=\"Lambda = 1\")\n",
    "ax.legend()\n",
    "ax.set(xlabel=\"Episode\", ylabel=\"Mean Squared Error\", title=\"MSE between TD and MC estimates, over episodes\")\n",
    "plt.show()"
   ]
  },
  {
   "cell_type": "markdown",
   "metadata": {},
   "source": [
    "### Part 4 - Linear Function Approximation"
   ]
  },
  {
   "cell_type": "code",
   "execution_count": null,
   "metadata": {},
   "outputs": [],
   "source": []
  }
 ],
 "metadata": {
  "kernelspec": {
   "display_name": "Python 3",
   "language": "python",
   "name": "python3"
  },
  "language_info": {
   "codemirror_mode": {
    "name": "ipython",
    "version": 3
   },
   "file_extension": ".py",
   "mimetype": "text/x-python",
   "name": "python",
   "nbconvert_exporter": "python",
   "pygments_lexer": "ipython3",
   "version": "3.8.5"
  }
 },
 "nbformat": 4,
 "nbformat_minor": 4
}
