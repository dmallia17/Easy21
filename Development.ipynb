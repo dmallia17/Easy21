{
 "cells": [
  {
   "cell_type": "markdown",
   "metadata": {},
   "source": [
    "# Development Notebook\n",
    "## Author: Daniel Mallia\n",
    "Used for quick, interactive development and demonstration"
   ]
  },
  {
   "cell_type": "markdown",
   "metadata": {},
   "source": [
    "### Part 1 - Environment\n",
    "See the Easy21Environment module for implementation"
   ]
  },
  {
   "cell_type": "code",
   "execution_count": null,
   "metadata": {},
   "outputs": [],
   "source": [
    "import matplotlib.pyplot as plt\n",
    "from Easy21Environment import *\n",
    "from Easy21Agents import *\n",
    "from LearnEasy21 import *\n",
    "SEED = 1234"
   ]
  },
  {
   "cell_type": "code",
   "execution_count": null,
   "metadata": {},
   "outputs": [],
   "source": [
    "easy = Easy21Environment(SEED)"
   ]
  },
  {
   "cell_type": "markdown",
   "metadata": {},
   "source": [
    "### Part 2  - Monte Carlo Control\n",
    "See the Easy21Agents module for implementation of Parts 2 - 4"
   ]
  },
  {
   "cell_type": "code",
   "execution_count": null,
   "metadata": {},
   "outputs": [],
   "source": [
    "mc = Easy21MC(SEED)\n",
    "mc.learn(easy,1000000)\n",
    "fig = mc.plot_value_function()"
   ]
  },
  {
   "cell_type": "markdown",
   "metadata": {},
   "source": [
    "### Part 3 - TD Learning"
   ]
  },
  {
   "cell_type": "code",
   "execution_count": null,
   "metadata": {},
   "outputs": [],
   "source": [
    "td = Easy21TD(SEED)\n",
    "td.learn(easy,10000, 0)\n",
    "fig = td.plot_value_function()"
   ]
  },
  {
   "cell_type": "code",
   "execution_count": null,
   "metadata": {},
   "outputs": [],
   "source": [
    "# Number of episodes MC is run (TD runs for 1000 episodes for each lambda)\n",
    "NUM_EPISODES = 1000000\n",
    "N_ZERO = 100\n",
    "TD_APPROX = False # Use tabular, not function approximation\n",
    "SHOW_PLOTS = True\n",
    "run_td(SEED, NUM_EPISODES, N_ZERO, TD_APPROX, SHOW_PLOTS)"
   ]
  },
  {
   "cell_type": "markdown",
   "metadata": {},
   "source": [
    "### Part 4 - Linear Function Approximation"
   ]
  },
  {
   "cell_type": "code",
   "execution_count": null,
   "metadata": {},
   "outputs": [],
   "source": [
    "lin = Easy21Linear(SEED)\n",
    "lin.learn(easy,10000, 0)\n",
    "fig = lin.plot_value_function()"
   ]
  },
  {
   "cell_type": "code",
   "execution_count": null,
   "metadata": {},
   "outputs": [],
   "source": [
    "# Number of episodes MC is run (TD runs for 1000 episodes for each lambda)\n",
    "NUM_EPISODES = 1000000\n",
    "TD_APPROX = True # Use function approximation\n",
    "SHOW_PLOTS = True\n",
    "run_td(SEED, NUM_EPISODES, approx=TD_APPROX, show=SHOW_PLOTS)"
   ]
  }
 ],
 "metadata": {
  "kernelspec": {
   "display_name": "Python 3",
   "language": "python",
   "name": "python3"
  },
  "language_info": {
   "codemirror_mode": {
    "name": "ipython",
    "version": 3
   },
   "file_extension": ".py",
   "mimetype": "text/x-python",
   "name": "python",
   "nbconvert_exporter": "python",
   "pygments_lexer": "ipython3",
   "version": "3.8.5"
  }
 },
 "nbformat": 4,
 "nbformat_minor": 4
}
